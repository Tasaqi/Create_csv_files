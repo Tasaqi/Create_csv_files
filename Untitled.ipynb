{
 "cells": [
  {
   "cell_type": "code",
   "execution_count": 30,
   "metadata": {},
   "outputs": [],
   "source": [
    "import pandas as pd"
   ]
  },
  {
   "cell_type": "code",
   "execution_count": 33,
   "metadata": {},
   "outputs": [],
   "source": [
    "\n",
    "#read file from Folder\n",
    "file1=pd.read_csv(\"shopping.csv\")\n",
    "file2=pd.read_csv(\"Users.csv\")\n"
   ]
  },
  {
   "cell_type": "code",
   "execution_count": null,
   "metadata": {},
   "outputs": [],
   "source": []
  },
  {
   "cell_type": "code",
   "execution_count": 34,
   "metadata": {},
   "outputs": [],
   "source": [
    "#create a new csv file with User ID, City ,Product line ,Unit price\n",
    "\n",
    "#Columns from file 2\n",
    "User_ID=file2[\"User ID\"]\n",
    "City=file2[\"City\"]\n",
    "\n",
    "#columns from file 1\n",
    "\n",
    "Product_Line=file1[\"Product line\"]\n",
    "Product_Unit=file1[\"Unit price\"]\n",
    "\n",
    "#create new csv file with these four columns\n",
    "\n",
    "data={\"User ID\":User_ID,\"City\":City, \"Product_Line\": Product_Line,\"Product_Line\":Product_Unit}\n",
    "\n",
    "df=pd.DataFrame(data, columns=[\"User ID\",\"City\",\"Product_Line\",\"Product_Line\"])\n",
    "\n",
    "File=df.to_csv(\"file1.csv\",index = None, header=True)\n"
   ]
  },
  {
   "cell_type": "code",
   "execution_count": 35,
   "metadata": {},
   "outputs": [],
   "source": [
    "#create a new csv file with User ID, Gender ,Total ,Payment\n",
    "\n",
    "#Columns from file 2\n",
    "User_ID=file2[\"User ID\"]\n",
    "Gender=file2[\"Gender\"]\n",
    "\n",
    "#columns from file 1\n",
    "Total=file1[\"Total\"]\n",
    "Payment=file1[\"Payment\"]\n",
    "\n",
    "#create new csv file with these four columns\n",
    "\n",
    "data={\"User ID\":User_ID,\"Gender\":Gender,  \"Total\": Total,\"Payment\":Payment}\n",
    "\n",
    "df=pd.DataFrame(data, columns=[\"User ID\",\"Gender\",\"Quantity\",\"Total\",\"Payment\"])\n",
    "\n",
    "File=df.to_csv(\"file2.csv\",index = None, header=True)"
   ]
  },
  {
   "cell_type": "code",
   "execution_count": 36,
   "metadata": {},
   "outputs": [],
   "source": [
    "#create a new csv file with User ID, Gender ,City ,Date, Total\n",
    "\n",
    "#Columns from file 2\n",
    "User_ID=file2[\"User ID\"]\n",
    "Gender=file2[\"Gender\"]\n",
    "City=file2[\"City\"]\n",
    "\n",
    "#columns from file 1\n",
    "\n",
    "Date=file1[\"Date\"]\n",
    "Total=file1[\"Total\"]\n",
    "\n",
    "#create new csv file with these four columns\n",
    "\n",
    "data={\"User ID\":User_ID,\"Gender\":Gender, \"City\":City, \"Date\":Date,\"Total\": Total }\n",
    "\n",
    "df=pd.DataFrame(data, columns=[\"User ID\",\"Gender\",\"City\",\"Total\",\"Payment\"])\n",
    "\n",
    "File=df.to_csv(\"file3.csv\",index = None, header=True)\n"
   ]
  },
  {
   "cell_type": "code",
   "execution_count": 37,
   "metadata": {},
   "outputs": [],
   "source": [
    "#create a new csv file with User ID, Gender ,City ,Date, Total\n",
    "\n",
    "#Columns from file 2\n",
    "User_ID=file2[\"User ID\"]\n",
    "Gender=file2[\"Gender\"]\n",
    "City=file2[\"City\"]\n",
    "\n",
    "#columns from file 1\n",
    "\n",
    "Date=file1[\"Date\"]\n",
    "Quantity=file1[\"Quantity\"]\n",
    "Total=file1[\"Total\"]\n",
    "\n",
    "#create new csv file with these four columns\n",
    "\n",
    "data={\"User ID\":User_ID,\"Gender\":Gender, \"City\":City, \"Date\":Date,\"Quantity\": Quantity,\"Total\": Total }\n",
    "\n",
    "df=pd.DataFrame(data, columns=[\"User ID\",\"Gender\",\"City\",\"Date\", \"Quantity\",\"Total\"])\n",
    "\n",
    "File=df.to_csv(\"file4.csv\",index = None, header=True)\n"
   ]
  },
  {
   "cell_type": "code",
   "execution_count": null,
   "metadata": {},
   "outputs": [],
   "source": []
  }
 ],
 "metadata": {
  "kernelspec": {
   "display_name": "Python 3",
   "language": "python",
   "name": "python3"
  },
  "language_info": {
   "codemirror_mode": {
    "name": "ipython",
    "version": 3
   },
   "file_extension": ".py",
   "mimetype": "text/x-python",
   "name": "python",
   "nbconvert_exporter": "python",
   "pygments_lexer": "ipython3",
   "version": "3.6.8"
  }
 },
 "nbformat": 4,
 "nbformat_minor": 2
}
